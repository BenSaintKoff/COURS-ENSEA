{
 "cells": [
  {
   "cell_type": "markdown",
   "metadata": {},
   "source": [
    "# TRAVAUX DIRIGES & PRATIQUES PROBLEMES INVERSES"
   ]
  },
  {
   "cell_type": "markdown",
   "metadata": {},
   "source": [
    "---"
   ]
  },
  {
   "cell_type": "markdown",
   "metadata": {},
   "source": [
    "## Définition :\n",
    "\n",
    "\n",
    "\n",
    "Si A est une matrice symétrique définie positive, alors il existe une matrice triangulaire inférieure L telle que $A = L^tL$. On dit alors que A admet une factorisation de Cholesky (ou décomposition de Cholesky).\n",
    "\n",
    "\n",
    "\n",
    "\n",
    "\n",
    "## Vérification :\n",
    "\n",
    "\n",
    "\n",
    "Pour calculer la décomposition de A, nous devons vérifier que A est bien symétrique définie positive :\n",
    "\n",
    "\n",
    "\n",
    "\n",
    "\n",
    "### Symétrique :\n",
    "\n",
    "\n",
    "\n",
    "Une matrice A est dite symétrique si $L =  L^{t}$. C’est à dire :\n",
    "$$\\forall i,j \\in \\dim{A}, A_{i,j} = A_{j,i}$$\n",
    "Par exemple :\n",
    "$$\\begin{bmatrix} -4 & -2 \\cr -2 & 13 \\end{bmatrix}$$"
   ]
  },
  {
   "cell_type": "markdown",
   "metadata": {},
   "source": [
    "### Définie positive :\n",
    "\n",
    "Une matrice A est dite définie positive si et seulement si ses valeurs propres sont positives. Je vous renvoie vers mon article sur les valeurs propres et vecteurs propres pour en savoir plus :"
   ]
  },
  {
   "cell_type": "markdown",
   "metadata": {},
   "source": [
    "## Résolution :\n",
    "\n",
    "\n",
    "\n",
    "Une fois la vérification faite, en dimension 3, on cherche une matrice L telle que $A = L^tL$.\n",
    "$$L = \\begin{bmatrix} L_{1,1} & 0 & 0 \\cr  L_{2,1} & L_{2,2} & 0 \\cr  L_{3,1} & L_{3,2} & L_{3,3}\\cr  \\end{bmatrix}$$"
   ]
  },
  {
   "cell_type": "markdown",
   "metadata": {},
   "source": [
    "Exemple :\n",
    "\n",
    "\n",
    "\n",
    "Prenons $A = \\begin{bmatrix} 1 & 2 \\cr 2 & 7 \\end{bmatrix}$.\n",
    "A étant de taille 2x2, alors :\n",
    "$$A = L^tL= \\begin{bmatrix} L_{1,1}^2 & L_{1,1}L_{2,1} \\cr L_{2,1}L_{1,1} & L_{2,1}^2 + L_{2,2}^2 \\end{bmatrix}$$.\n",
    "Ce qui nous donne 4 équations:\n",
    "\n",
    "$1 = L_{1,1}^2$\n",
    "$2 = L_{1,1}L_{2,1}$\n",
    "$2 = L_{1,1}L_{2,1}$\n",
    "$7 = L_{2,1}^2 + L_{2,2}^2$\n",
    "\n",
    "Donc:\n",
    "\n",
    "$L_{1,1}=1$\n",
    "$L_{2,1}=2$\n",
    "$L_{2,2}=\\sqrt{3}$"
   ]
  },
  {
   "cell_type": "markdown",
   "metadata": {},
   "source": [
    "## Utile pour le calcul de déterminant !\n",
    "\n",
    "\n",
    "\n",
    "La décomposition de Cholesky offre un avantage pour le calcul de déterminant.\n",
    "En effet, L étant triangulaire :\n",
    "$$\\det{A}=\\det{L^tL}=\\det{L}\\times\\det{^tL}=\\det{L}^2=(\\prod_{i=1}^{dim L}L_{i,i})^2$$"
   ]
  },
  {
   "cell_type": "markdown",
   "metadata": {},
   "source": [
    "## En python :\n",
    "\n",
    "Il est possible d’effectuer une factorisation de Cholesky rapidement en Python grâce à numpy !\n"
   ]
  },
  {
   "cell_type": "code",
   "execution_count": 3,
   "metadata": {},
   "outputs": [
    {
     "name": "stdout",
     "output_type": "stream",
     "text": [
      "[[1.         0.        ]\n",
      " [2.         1.73205081]]\n"
     ]
    }
   ],
   "source": [
    "import numpy as np\n",
    "\n",
    "A = np.array([[1,2], [2,7]])\n",
    "B = np.linalg.cholesky(A)\n",
    "print(B)\n"
   ]
  },
  {
   "cell_type": "code",
   "execution_count": null,
   "metadata": {},
   "outputs": [],
   "source": []
  },
  {
   "cell_type": "markdown",
   "metadata": {},
   "source": [
    "## 1 Exercices\n",
    "*Question 1.* On considère les deux vecteurs $x$ et $y$, définis par $x^T = ( 1 \\quad 2\\quad 3 )$ et $y^T =( 4 \\quad5 \\quad6 )$. Calculer le produit scalaire $xTy$ et le produit tensoriel $xy^T$ .\n",
    "\n",
    "*Question 2.* Soit A une matrice quelconque. Vérifier que le produit $A^TA$ est toujours\n",
    "défini (que suffit-il de vérifier ?) et que le résultat est une matrice symétrique.\n",
    "\n",
    "*Question 3.* Montrer que toute matrice symétrique définie positive est inversible.\n",
    "*Question 4.* Montrer que les valeurs propres d’une matrice symétrique définie positive\n",
    "sont strictement positives.\n",
    "\n",
    "## 2 Méthodes de Cholesky et de Gauss\n",
    "\n",
    "On considère le système d’équations linéaires $A x = b$ suivant :\n",
    "$$A = \\begin{bmatrix} 9 & -6 & -9\\cr -6 &8  & 6\\cr -9 & 6 & 25\\cr  \\end {bmatrix},\\quad  b=\\begin{bmatrix} 6 & 4 & -22 \\cr \\end{bmatrix}  \\quad (1) $$\n",
    "\n",
    "*Question 5.* Est-il possible de le résoudre en appliquant l’algorithme de Cholesky ? Si oui,\n",
    "le résoudre.\n",
    "\n",
    "*Question 6.* Résoudre le système en appliquant le pivot de Gauss."
   ]
  },
  {
   "cell_type": "raw",
   "metadata": {},
   "source": []
  },
  {
   "cell_type": "markdown",
   "metadata": {},
   "source": [
    "*Question 7.* Les commandes suivantes calculent une factorisation $L U$ de la matrice A en\n",
    "Python. Comment interpréter le résultat ? Que signifie le tableau *$array([0, 1, 2])$* ?\n",
    "\n",
    "Pour vous aider, voici un extrait de la documentation de lu_factor."
   ]
  },
  {
   "cell_type": "code",
   "execution_count": null,
   "metadata": {},
   "outputs": [],
   "source": [
    "!pip insatll nla\n",
    "help(nla.lu_factor)"
   ]
  },
  {
   "cell_type": "code",
   "execution_count": null,
   "metadata": {},
   "outputs": [],
   "source": [
    "import numpy as np\n",
    "import scipy.linalg as nla\n",
    "A = np.array ([[9, -6, -9], [-6, 8, 6], [-9, 6, 25]], dtype=np.float64, order='F')\n",
    "b = np.array ([6,4,-22], dtype=np.float64)\n",
    "nla.lu_factor (A, overwrite_a=True)"
   ]
  },
  {
   "cell_type": "markdown",
   "metadata": {},
   "source": [
    "*Question 8.* On souhaite résoudre le système $(1)$ à partir de $G$ et de $b$, en utilisant la fonction *solve_triangular* de Python On imagine que $A$ et $b$ sont gigantesques : pas question de créer des matrices ou des vecteurs intermédiaires inutiles. Donner les commandes nécessaires"
   ]
  },
  {
   "cell_type": "code",
   "execution_count": null,
   "metadata": {},
   "outputs": [],
   "source": []
  },
  {
   "cell_type": "markdown",
   "metadata": {},
   "source": [
    "## Mathematics behind SVD:\n",
    "\n",
    "The SVD of  mxn matrix A is given by the formula  $A = U\\Sigma V^T$\n",
    "\n",
    "where:\n",
    "\n",
    "- $U$:  mxm matrix of the orthonormal eigenvectors of $AA^{T}$ .\n",
    "- $VT$: transpose of a $nxn$ matrix containing the orthonormal eigenvectors of $A^TA.$\n",
    "- $\\Sigma$ : diagonal matrix with $r$ elements equal to the root of the positive eigenvalues of $AAᵀ$ or $Aᵀ A$ (both matrics have the same positive eigenvalues anyway).\n"
   ]
  },
  {
   "cell_type": "markdown",
   "metadata": {},
   "source": [
    "### Examples\n",
    "\n",
    "Find the SVD for the matrix $A = \\begin{bmatrix} 3&2 & 2 \\\\ 2& 3& -2 \\end{bmatrix}$\n",
    "To calculate the SVD, First, we need to compute the singular values by finding eigenvalues of $AA^{T}$.\n",
    "\n",
    "$A \\cdot A^{T} =\\begin{bmatrix} 3& 2 & 2 \\\\ 2& 3& -2 \\end{bmatrix} \\cdot \\begin{bmatrix} 3 & 2 \\\\ 2 & 3 \\\\ 2 & -2 \\end{bmatrix} = \\begin{bmatrix} 17 & 8\\\\ 8 & 17 \\end{bmatrix}$\n",
    "\n",
    "The characteristic equation for the above matrix is:\n",
    "\n",
    "$W - \\lambda I =0 \\\\ A A^{T} - \\lambda I =0$\n",
    "\n",
    "$\\lambda^{2} - 34 \\lambda + 225 = 0 = (\\lambda-25)(\\lambda -9)$\n",
    "\n",
    "so our singular values are: $\\sigma_1 = 5 \\, ; \\sigma_2 = 3$\n",
    "\n",
    "Now we find the right singular vectors i.e orthonormal set of eigenvectors of $A^TA$. The eigenvalues of $A^TA$ are $25, 9$, and $0$, and since $A^TA$ is symmetric we know that the eigenvectors will be orthogonal.\n"
   ]
  },
  {
   "cell_type": "raw",
   "metadata": {},
   "source": []
  },
  {
   "cell_type": "markdown",
   "metadata": {},
   "source": [
    "\n",
    "Now we find the right singular vectors i.e orthonormal set of eigenvectors of $A^TA$. The eigenvalues of $A^TA$ are $25, 9$, and $0$, and since $A^TA$ is symmetric we know that the eigenvectors will be orthogonal.\n",
    "\n",
    "For $\\lambda =25$,\n",
    "\n",
    "$$A^{T}A - 25 \\cdot I = \\begin{bmatrix} -12 & 12& 2\\\\ 12 & -12 & -2\\\\ 2& -2 & -17 \\end{bmatrix}$$\n",
    "\n",
    "which can be row-reduces to :\n",
    "\n",
    "$$\\begin{bmatrix} 1& -1& 0 \\\\ 0& 0& 1\\\\ 0& 0& 0 \\end{bmatrix} $$"
   ]
  },
  {
   "cell_type": "code",
   "execution_count": null,
   "metadata": {},
   "outputs": [],
   "source": []
  },
  {
   "cell_type": "markdown",
   "metadata": {},
   "source": [
    "A unit vector in the direction of it is:\n",
    "\n",
    "$$v_1 = \\begin{bmatrix} \\frac{1}{\\sqrt{2}}\\\\ \\frac{1}{\\sqrt{2}}\\\\ 0 \\end{bmatrix}$$\n",
    "\n",
    "Similarly, for $\\lambda = 9$, the eigenvector is:\n",
    "\n",
    "$$v_2 =\\begin{bmatrix} \\frac{1}{\\sqrt{18}}\\\\ \\frac{-1}{\\sqrt{18}}\\\\ \\frac{4}{\\sqrt{18}}\\\\ \\end{bmatrix}$$\n",
    "\n",
    "For the 3rd eigenvector, we could use the property that it is perpendicular to $v1$ and $v2$ such that:\n",
    "\n",
    "$$v_1^{T} v_3 =0 \\\\ v_2^{T} v_3 =0 $$"
   ]
  },
  {
   "cell_type": "markdown",
   "metadata": {},
   "source": [
    "Solving the above equation to generate the third eigenvector\n",
    "\n",
    "$$v_3 = \\begin{bmatrix} a\\\\ b\\\\ c \\end{bmatrix} = \\begin{bmatrix} a\\\\ -a \\\\ \\frac{-a}{2} \\end{bmatrix} = \\begin{bmatrix} \\frac{2}{3}\\\\ \\frac{-2}{3}\\\\ \\frac{-1}{3} \\end{bmatrix}$$\n",
    "\n",
    "Now, we calculate $U$ using the formula $$u_i = \\frac{1}{\\sigma} A v_i$$ and this gives $$U =\\begin{bmatrix} \\frac{1}{\\sqrt{2}} &\\frac{1}{\\sqrt{2}} \\\\ \\frac{1}{\\sqrt{2}}& \\frac{-1}{\\sqrt{2}} \\end{bmatrix}$$\n",
    "\n",
    ". Hence, our final SVD equation becomes:\n",
    "\n",
    "$$A = \\begin{bmatrix} \\frac{1}{\\sqrt{2}} &\\frac{1}{\\sqrt{2}} \\\\ \\frac{1}{\\sqrt{2}}& \\frac{-1}{\\sqrt{2}} \\end{bmatrix} \\begin{bmatrix} 5 & 0& 0 \\\\ 0 & 3& 0 \\end{bmatrix} \\begin{bmatrix} \\frac{1}{\\sqrt{2}}& \\frac{1}{\\sqrt{2}} &0 \\\\ \\frac{1}{\\sqrt{18}}& \\frac{-1}{\\sqrt{18}} & \\frac{4}{\\sqrt{18}}\\\\ \\frac{2}{3}&\\frac{-2}{3} &\\frac{1}{3} \\end{bmatrix} $$"
   ]
  },
  {
   "cell_type": "code",
   "execution_count": null,
   "metadata": {},
   "outputs": [],
   "source": []
  }
 ],
 "metadata": {
  "kernelspec": {
   "display_name": "Python 3",
   "language": "python",
   "name": "python3"
  },
  "language_info": {
   "codemirror_mode": {
    "name": "ipython",
    "version": 3
   },
   "file_extension": ".py",
   "mimetype": "text/x-python",
   "name": "python",
   "nbconvert_exporter": "python",
   "pygments_lexer": "ipython3",
   "version": "3.8.5"
  }
 },
 "nbformat": 4,
 "nbformat_minor": 4
}
